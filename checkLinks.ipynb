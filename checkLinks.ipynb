{
 "cells": [
  {
   "cell_type": "code",
   "execution_count": 1,
   "metadata": {},
   "outputs": [
    {
     "name": "stdout",
     "output_type": "stream",
     "text": [
      "Collecting python-docx\n",
      "  Obtaining dependency information for python-docx from https://files.pythonhosted.org/packages/3e/3d/330d9efbdb816d3f60bf2ad92f05e1708e4a1b9abe80461ac3444c83f749/python_docx-1.1.2-py3-none-any.whl.metadata\n",
      "  Using cached python_docx-1.1.2-py3-none-any.whl.metadata (2.0 kB)\n",
      "Requirement already satisfied: lxml>=3.1.0 in c:\\users\\mrkol\\anaconda3\\envs\\dev\\lib\\site-packages (from python-docx) (4.9.3)\n",
      "Requirement already satisfied: typing-extensions>=4.9.0 in c:\\users\\mrkol\\anaconda3\\envs\\dev\\lib\\site-packages (from python-docx) (4.10.0)\n",
      "Using cached python_docx-1.1.2-py3-none-any.whl (244 kB)\n",
      "Installing collected packages: python-docx\n",
      "Successfully installed python-docx-1.1.2\n"
     ]
    },
    {
     "name": "stderr",
     "output_type": "stream",
     "text": [
      "WARNING: There was an error checking the latest version of pip.\n"
     ]
    }
   ],
   "source": [
    "!pip install python-docx"
   ]
  },
  {
   "cell_type": "code",
   "execution_count": 2,
   "metadata": {},
   "outputs": [],
   "source": [
    "# import dependencies\n",
    "import requests\n",
    "import csv\n",
    "\n",
    "from docx import Document\n",
    "\n",
    "import os"
   ]
  },
  {
   "cell_type": "code",
   "execution_count": 3,
   "metadata": {},
   "outputs": [],
   "source": [
    "# Path to your Word document to be checked\n",
    "doc_path = os.path.join(os.getcwd(), \"SAFlinks.docx\")\n",
    "#doc_path = \"testresources.docx\"\n",
    "\n",
    "# Output CSV file naming\n",
    "csv_output_file = \"SAFhyperlink_status.csv\""
   ]
  },
  {
   "cell_type": "code",
   "execution_count": 4,
   "metadata": {},
   "outputs": [],
   "source": [
    "# Create variables doc and list of hyperlinks\n",
    "doc = Document(doc_path)\n",
    "hyperlinks = []"
   ]
  },
  {
   "cell_type": "code",
   "execution_count": 5,
   "metadata": {},
   "outputs": [],
   "source": [
    "# Iterate over relationships in the document\n",
    "for rel in doc.part.rels.values():\n",
    "    if \"hyperlink\" in rel.reltype:\n",
    "        hyperlinks.append(rel.target_ref)\n"
   ]
  },
  {
   "cell_type": "code",
   "execution_count": 6,
   "metadata": {},
   "outputs": [
    {
     "name": "stdout",
     "output_type": "stream",
     "text": [
      "A problem has been detected! https://aviationbenefits.org/media/166152/beginners-guide-to-saf_web.pdf has a status of 404.\n",
      "A problem has been detected! https://www.energy.gov/eere/bioenergy/bioenergy-career-grid has a status of 403.\n",
      "A problem has been detected! https://greet.es.anl.gov/workshops has a status of 500.\n",
      "A problem has been detected! https://www.anl.gov/education/guide-to-powerpoint-presentations has a status of 403.\n",
      "A problem has been detected! https://www.energy.gov/eere/bioenergy/conversiontechnologies has a status of 403.\n",
      "A problem has been detected! https://www.epa.gov/pmpollution/particulate-matter-pm-basics has a status of 404.\n",
      "A problem has been detected! https://www.energy.gov/eere/bioenergy/bioenergy-basics has a status of 403.\n",
      "A problem has been detected! https://www.energy.gov/eere/bioenergy/bioenergy-careers-and-education has a status of 403.\n",
      "A problem has been detected! https://www.energy.gov/eere/bioenergy/atecalgae-technology-educational-consortium has a status of 403.\n",
      "A problem has been detected! https://www.energy.gov/sites/prod/files/2020/05/f74/beto-biomassbasics has a status of 403.\n",
      "A problem has been detected! https://www.csrwire.com/press_releases/750846-american-furthers-its-commitmentsustainable-aviation-fuel has a status of 404.\n",
      "A problem has been detected! https://www.energy.gov/eere/bioenergy/bioenergy-technologies-office has a status of 403.\n",
      "A problem has been detected! https://www.energy.gov/eere/bioenergy/sustainable-aviationfuels has a status of 403.\n",
      "A problem has been detected! https://rsb.org/about/what-wedo/the-rsb-principles/ has a status of 403.\n",
      "A problem has been detected! https://www.energy.gov/eere/bioenergy/articles/greet-dawn-newday-sustainable-aviation-fuels has a status of 403.\n",
      "A problem has been detected! https://www.anl.gov/education/communicating-science has a status of 403.\n",
      "A problem has been detected! https://www.energy.gov/sites/default/files/2021-11/beto-sust-aviation-fuel-fact-sheet-oct-2021-web.pdf has a status of 403.\n",
      "A problem has been detected! https://www.epa.gov/renewable-fuel-standard-program/whatfuel-pathway has a status of 404.\n",
      "A problem has been detected! https://greet.es.anl.gov/ has a status of 500.\n",
      "A problem has been detected! https://www.energy.gov/eere/bioenergy/betosbioenergy-career-map has a status of 403.\n",
      "A problem has been detected! https://www.epa.gov/renewable-fuel-standard-program/lifecycle-analysis-greenhousegas-emissions-under-renewable-fuel has a status of 404.\n",
      "Hyperlink status codes have been exported to SAFhyperlink_status.csv.\n"
     ]
    }
   ],
   "source": [
    "# Open CSV file for writing\n",
    "with open(csv_output_file, mode='w', newline='') as csv_file:\n",
    "    fieldnames = ['Hyperlink', 'Status Code']\n",
    "    writer = csv.DictWriter(csv_file, fieldnames=fieldnames)\n",
    "    writer.writeheader()\n",
    "\n",
    "    # Check each hyperlink\n",
    "    for link in hyperlinks:\n",
    "        try:\n",
    "            response = requests.head(link, allow_redirects=True, timeout=5)\n",
    "            status_code = response.status_code\n",
    "            if status_code>400:\n",
    "                print(f\"A problem has been detected! {link} has a status of {status_code}.\")\n",
    "        except requests.RequestException as e:status_code = f\"Error: {e}\"\n",
    "        # Write hyperlink and status code to the CSV file\n",
    "        writer.writerow({'Hyperlink': link, 'Status Code': status_code})\n",
    "        \n",
    "print(f\"Hyperlink status codes have been exported to {csv_output_file}.\")\n",
    "        "
   ]
  }
 ],
 "metadata": {
  "kernelspec": {
   "display_name": "dev",
   "language": "python",
   "name": "python3"
  },
  "language_info": {
   "codemirror_mode": {
    "name": "ipython",
    "version": 3
   },
   "file_extension": ".py",
   "mimetype": "text/x-python",
   "name": "python",
   "nbconvert_exporter": "python",
   "pygments_lexer": "ipython3",
   "version": "3.10.13"
  }
 },
 "nbformat": 4,
 "nbformat_minor": 2
}
